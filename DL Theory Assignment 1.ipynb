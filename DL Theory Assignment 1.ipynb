{
 "cells": [
  {
   "cell_type": "code",
   "execution_count": null,
   "id": "75bc0a31",
   "metadata": {},
   "outputs": [],
   "source": [
    "#1. What is the function of a summation junction of a neuron? What is threshold activation function?"
   ]
  },
  {
   "cell_type": "code",
   "execution_count": null,
   "id": "e27e4a33",
   "metadata": {},
   "outputs": [],
   "source": [
    "A summation junction of a neuron is the point where the electrical signals from other neurons combine and are processed by the neuron. Threshold activation function is the point at which the combined electrical signals reach an intensity where the neuron will fire an action potential."
   ]
  },
  {
   "cell_type": "code",
   "execution_count": null,
   "id": "c35d2d5a",
   "metadata": {},
   "outputs": [],
   "source": [
    "#2. What is a step function? What is the difference of step function with threshold function?"
   ]
  },
  {
   "cell_type": "code",
   "execution_count": null,
   "id": "65cd572b",
   "metadata": {},
   "outputs": [],
   "source": [
    "A step function is a type of mathematical function where a certain output is produced when the input value reaches a certain threshold. The difference between a step function and a threshold function is that a step function has a clear cut-off point, while a threshold function has a gradual increase or decrease in output."
   ]
  },
  {
   "cell_type": "code",
   "execution_count": null,
   "id": "dc9b38f0",
   "metadata": {},
   "outputs": [],
   "source": [
    "#3. Explain the McCulloch–Pitts model of neuron."
   ]
  },
  {
   "cell_type": "code",
   "execution_count": null,
   "id": "6f4c39a5",
   "metadata": {},
   "outputs": [],
   "source": [
    "The McCulloch–Pitts (MCP) model of neuron is a mathematical model of a biological neuron developed by Walter Pitts and Warren McCulloch in 1943. It is a binary linear threshold model, where a neuron's output is either 0 or 1 depending on whether the total input to the neuron is above or below a certain threshold. It consists of a linear summation of weighted input signals and an activation function. The model was one of the earliest attempts to describe how a neuron works, and is still used as a basic model for understanding the behavior of neurons in a network."
   ]
  },
  {
   "cell_type": "code",
   "execution_count": null,
   "id": "6365dfa7",
   "metadata": {},
   "outputs": [],
   "source": [
    "#4. Explain the ADALINE network model."
   ]
  },
  {
   "cell_type": "code",
   "execution_count": null,
   "id": "d4512170",
   "metadata": {},
   "outputs": [],
   "source": [
    "The ADALINE network model (Adaptive Linear Element) is an artificial neural network model which was developed by Bernard Widrow and Ted Hoff in 1960. It is a single layer perceptron model which is capable of learning linear functions and is able to classify non-linearly separable patterns. It is composed of a single layer of neurons, each with a single output, and weights are adjusted based on a learning algorithm. The output of the network is a weighted sum of the inputs, with the weights determined by a learning algorithm. The weights are adjusted such that the output of the network is as close as possible to the desired output. The ADALINE model is used in a variety of applications, including pattern recognition, image processing, and robotics."
   ]
  },
  {
   "cell_type": "code",
   "execution_count": null,
   "id": "77dd8a09",
   "metadata": {},
   "outputs": [],
   "source": [
    "#5. What is the constraint of a simple perceptron? Why it may fail with a real-world data set?"
   ]
  },
  {
   "cell_type": "code",
   "execution_count": null,
   "id": "c4ae506e",
   "metadata": {},
   "outputs": [],
   "source": [
    " The constraint of a simple perceptron is that it can only learn linear separable functions. It may fail with a real-world data set because the data may not be linearly separable. For example, if the data points have a non-linear relationship, the simple perceptron will not be able to draw the decision boundary correctly."
   ]
  },
  {
   "cell_type": "code",
   "execution_count": null,
   "id": "bf810cab",
   "metadata": {},
   "outputs": [],
   "source": [
    "#6. What is linearly inseparable problem? What is the role of the hidden layer?"
   ]
  },
  {
   "cell_type": "code",
   "execution_count": null,
   "id": "5b7c7a00",
   "metadata": {},
   "outputs": [],
   "source": [
    "A linearly inseparable problem is where two or more classes of data points cannot be separated by a single straight line, or a hyperplane. A hidden layer in a neural network is a layer between the input and output layers, which contains nodes that have a weighted sum of the inputs and apply an activation function. The hidden layer is important because it is able to capture non-linear relationships between the inputs and outputs, which allows the network to solve complex problems that are not linearly separable."
   ]
  },
  {
   "cell_type": "code",
   "execution_count": null,
   "id": "d22d6297",
   "metadata": {},
   "outputs": [],
   "source": [
    "#7. Explain XOR problem in case of a simple perceptron."
   ]
  },
  {
   "cell_type": "code",
   "execution_count": null,
   "id": "cac915e3",
   "metadata": {},
   "outputs": [],
   "source": [
    "The XOR problem is a problem where a single perceptron cannot accurately classify the data into two distinct classes. XOR stands for Exclusive OR, meaning that if either A or B is true, then the result is true and if both A and B are true or false, then the result is false. The XOR problem occurs when we try to classify data that is not linearly separable. In other words, the data cannot be separated into two distinct classes with a straight line or hyperplane. "
   ]
  },
  {
   "cell_type": "code",
   "execution_count": null,
   "id": "13f261b4",
   "metadata": {},
   "outputs": [],
   "source": [
    "#8. Design a multi-layer perceptron to implement A XOR B."
   ]
  },
  {
   "cell_type": "code",
   "execution_count": null,
   "id": "bcfa91be",
   "metadata": {},
   "outputs": [],
   "source": [
    " A multi-layer perceptron (MLP) can be used to implement the XOR problem. An MLP consists of one or more hidden layers between the input and output layers. Each layer consists of neurons that take inputs and produce outputs. To classify the XOR problem, we can use an MLP with two inputs (A and B), two hidden layers (one with two neurons and one with one neuron), and one output. The first hidden layer will take in the two inputs (A and B) and produce two outputs. The second hidden layer will take the two outputs from the first hidden layer and produce one output. Finally, the output layer will take the output from the second hidden layer and produce the XOR output (true or false)."
   ]
  },
  {
   "cell_type": "code",
   "execution_count": null,
   "id": "9d22f40b",
   "metadata": {},
   "outputs": [],
   "source": [
    "#9. Explain the single-layer feed forward architecture of ANN."
   ]
  },
  {
   "cell_type": "code",
   "execution_count": null,
   "id": "1d2aaabd",
   "metadata": {},
   "outputs": [],
   "source": [
    "A single-layer feed forward architecture of ANN is one of the simplest forms of artificial neural networks. This type of network consists of a single layer of input neurons that feed directly into a single layer of output neurons. The neurons in the input layer receive the input data, which is then passed through a set of weights or parameters to the output layer. The output layer produces a single output value for each input. This architecture is used for simple tasks such as pattern recognition and classification."
   ]
  },
  {
   "cell_type": "code",
   "execution_count": null,
   "id": "602e3c80",
   "metadata": {},
   "outputs": [],
   "source": [
    "#10. Explain the competitive network architecture of ANN."
   ]
  },
  {
   "cell_type": "code",
   "execution_count": null,
   "id": "943976d3",
   "metadata": {},
   "outputs": [],
   "source": [
    "The competitive network architecture of ANN is a type of artificial neural network that uses competition between multiple neurons to determine the output. This type of network consists of a number of input neurons that feed into a single layer of neurons, which compete to produce the final output. Each neuron in the output layer has its own set of weights or parameters that it uses to compare the inputs from the previous layer"
   ]
  },
  {
   "cell_type": "code",
   "execution_count": null,
   "id": "c1156986",
   "metadata": {},
   "outputs": [],
   "source": [
    "#11. Consider a multi-layer feed forward neural network. Enumerate and explain steps in the\n",
    "backpropagation algorithm used to train the network."
   ]
  },
  {
   "cell_type": "code",
   "execution_count": null,
   "id": "36b7449d",
   "metadata": {},
   "outputs": [],
   "source": [
    "The backpropagation algorithm used to train a multilayer feed forward neural network involves the following steps:\n",
    "\n",
    "Initialize weights and biases: The weights and biases of the neurons in the network are initialized with small random numbers.\n",
    "\n",
    "Forward Pass: The input data is passed through the network. Each neuron in the network performs its calculations and passes the output to the next layer.\n",
    "\n",
    "Calculate Error: The error of the output is calculated using a cost or loss function.\n",
    "\n",
    "Backward Pass: The error is propagated back through the network. The weights and biases of each neuron are adjusted in order to minimize the error.\n",
    "\n",
    "Repeat: Steps 2-4 are repeated until the network converges and the error is minimized."
   ]
  },
  {
   "cell_type": "code",
   "execution_count": null,
   "id": "2808a653",
   "metadata": {},
   "outputs": [],
   "source": [
    "#12. What are the advantages and disadvantages of neural networks?"
   ]
  },
  {
   "cell_type": "code",
   "execution_count": null,
   "id": "99e06e05",
   "metadata": {},
   "outputs": [],
   "source": [
    "Advantages:\n",
    "\n",
    "Neural networks are capable of learning complex relationships between inputs and outputs.\n",
    "Neural networks are robust and can handle noisy and incomplete data.\n",
    "Neural networks can be used for a variety of tasks such as pattern recognition, classification, and prediction.\n",
    "\n",
    "Disadvantages:\n",
    "\n",
    "Neural networks require a large amount of data for training.\n",
    "Neural networks can be difficult to interpret and understand.\n",
    "Neural networks are prone to overfitting."
   ]
  },
  {
   "cell_type": "code",
   "execution_count": null,
   "id": "72b2db09",
   "metadata": {},
   "outputs": [],
   "source": [
    "#13. Write short notes on any two of the following:\n",
    "\n",
    "1. Biological neuron : A biological neuron is a specialized cell found in the nervous system that is capable of transmitting electrical signals. The neuron consists of a cell body, dendrites, and axon which are connected by synapses. The cell body contains the nucleus and other organelles, while the dendrites receive signals from other neurons and transmit them to the cell body. The axon then sends the signal away from the cell body to other neurons.\n",
    "2. ReLU function\n",
    "3. Single-layer feed forward ANN\n",
    "4. Gradient descent\n",
    "5. Recurrent networks : Recurrent neural networks are a type of neural networks that are used for processing sequential data. These networks contain cycles that allow information to persist and be passed from one step to the next. They are used in tasks such as speech recognition, language modelling and machine translation."
   ]
  },
  {
   "cell_type": "code",
   "execution_count": null,
   "id": "3a1f16ef",
   "metadata": {},
   "outputs": [],
   "source": []
  }
 ],
 "metadata": {
  "kernelspec": {
   "display_name": "Python 3 (ipykernel)",
   "language": "python",
   "name": "python3"
  },
  "language_info": {
   "codemirror_mode": {
    "name": "ipython",
    "version": 3
   },
   "file_extension": ".py",
   "mimetype": "text/x-python",
   "name": "python",
   "nbconvert_exporter": "python",
   "pygments_lexer": "ipython3",
   "version": "3.9.4"
  }
 },
 "nbformat": 4,
 "nbformat_minor": 5
}
