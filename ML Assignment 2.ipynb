{
 "cells": [
  {
   "cell_type": "code",
   "execution_count": null,
   "id": "2ee570f7",
   "metadata": {},
   "outputs": [],
   "source": [
    "1. What is the concept of human learning? Please give two examples ?\n",
    "Ans: Human learning is the form of learning which requires higher order mental processes like thinking, reasoning, intelligence, etc.We learn different concepts from childhood. For example: When we see a dog and attach the term 'dog', we learn that the word dog refers to a particular animal.\n",
    "\n",
    "Learning through Association - Classical Conditioning.\n",
    "Learning through consequences – Operant Conditioning.\n",
    "Learning through observation – Modeling/Observational Learning."
   ]
  },
  {
   "cell_type": "code",
   "execution_count": null,
   "id": "ea104b4b",
   "metadata": {},
   "outputs": [],
   "source": [
    "2. What different forms of human learning are there? Are there any machine learning equivalents ?\n",
    "Ans: Human learning is the form of learning which requires higher order mental processes like thinking, reasoning, intelligence, etc.We learn different concepts from childhood. For example: When we see a dog and attach the term 'dog', we learn that the word dog refers to a particular animal.\n",
    "\n",
    "Learning through Association - Classical Conditioning.\n",
    "Learning through consequences – Operant Conditioning.\n",
    "Learning through observation – Modeling/Observational Learning.\n",
    "Different Forms of ML are as follows :\n",
    "\n",
    "Artificial Intelligence Learning Theories. Machine Learning. Reinforcement Learning. Supervised Learning. Unsupervised Learning.\n",
    "ML equivalents like Linear regression, decision trees, random forest and support vector machines are some commonly used techniques that are actually examples of supervised learning."
   ]
  },
  {
   "cell_type": "code",
   "execution_count": null,
   "id": "bcb6133a",
   "metadata": {},
   "outputs": [],
   "source": [
    "3. What is machine learning, and how does it work? What are the key responsibilities of machine learning ?\n",
    "Ans: Machine learning is a branch of Artificial intelligence (AI) that teaches computers on how to think in a similar way to how humans do, like by Learning and improving upon past experiences.\n",
    "\n",
    "It works by exploring data and identifying patterns, and involves minimal human intervention.\n",
    "Roles and responsibilities of a machine learning engineer are:\n",
    "\n",
    "Designing ML systems.\n",
    "Researching and implementing ML algorithms and tools. Selecting appropriate data sets.\n",
    "Picking appropriate data representation methods. Identifying differences in data distribution that affects model performance. Verifying data quality."
   ]
  },
  {
   "cell_type": "code",
   "execution_count": null,
   "id": "6eddbaff",
   "metadata": {},
   "outputs": [],
   "source": [
    "4. Define the terms \"penalty\" and \"reward\" in the context of reinforcement learning ?\n",
    "Ans: A Reinforcement Learning Algorithm, which may also be referred to as an agent, learns by interacting with its environment. The agent receives rewards by performing correctly and penalties for performing incorrectly. The agent learns without intervention from a human by maximizing its reward and minimizing its penalty. Example: Suppose there is an AI agent present within a maze environment, and his goal is to find the diamond. The agent interacts with the environment by performing some actions, and based on those actions, the state of the agent gets changed, and it also receives a reward or penalty as feedback."
   ]
  },
  {
   "cell_type": "code",
   "execution_count": null,
   "id": "0703438d",
   "metadata": {},
   "outputs": [],
   "source": [
    "5. Explain the term \"learning as a search\" ?\n",
    "Ans: Learning can be viewed as a search through the space of all sentences in a concept description language for a sentence that best describes the data. Alternatively, it can be viewed as a search through all hypotheses in a hypothesis space. Concept learning can be viewed as the task of searching through a large space of hypotheses implicitly defined by the hypothesis representation. The goal of this search is to find the hypothesis that best fits the training examples."
   ]
  },
  {
   "cell_type": "code",
   "execution_count": null,
   "id": "8be36029",
   "metadata": {},
   "outputs": [],
   "source": [
    "6. What are the various goals of machine learning? What is the relationship between these and human learning ?\n",
    "Ans: The Goal of machine learning, closely coupled with the goal of AI, is to achieve a through understanding about the nature of learning process (both human learning and other forms of learning), about the computational aspects of learning behaviors, and to implant the learning capability in computer systems. he Goals of Machine Learning. The goal of ML, in simples w ords, is to understand the nature of (human and other forms of) learn- ing, and to build learning capability in computers. To b e more specific, there are three aspects of the goals of ML. (1) T o make the computers smarter , more intelligent. The more direct objecti ve i n this aspect is to develop systems (programs) for specific practical learning tasks in application domains. (2) T o dev elop computational models of human learning process and perform computer simulations. The study in this aspect is also called cognitive modeling. (3) T o explore new learning methods and de velop general learning algorithms independent of applica- tions."
   ]
  },
  {
   "cell_type": "code",
   "execution_count": null,
   "id": "6adcc171",
   "metadata": {},
   "outputs": [],
   "source": [
    "7. Illustrate the various elements of machine learning using a real-life illustration ?\n",
    "Ans: The Various elements of the the Machine Learning are:\n",
    "\n",
    "Data\n",
    "Task\n",
    "Model\n",
    "Loss Function\n",
    "Learning Algorithm\n",
    "Evaluation"
   ]
  },
  {
   "cell_type": "code",
   "execution_count": null,
   "id": "f54b480b",
   "metadata": {},
   "outputs": [],
   "source": [
    "8. Provide an example of the abstraction method ?\n",
    "Ans: In Machine Learning, Abstraction is supported primarily at the level of modules. This can be justified in two ways: first, Data abstraction is mostly a question of program interfaces and therefore it arises naturally at the point where we have to consider program composition and modules. Abstraction is defined as dealing with ideas instead of events. In the context of AI, that means worrying more about what the right algorithm is and less about how to implement it. Another way of looking at it, for those technically inclined, is as an API call (abstracted) vs. a self implemented function or series of functions."
   ]
  },
  {
   "cell_type": "code",
   "execution_count": null,
   "id": "98d4edba",
   "metadata": {},
   "outputs": [],
   "source": [
    "9. What is the concept of generalization? What function does it play in the machine learning process ?\n",
    "Ans: Generalization refers to your model's ability to adapt properly to new, previously unseen data, drawn from the same distribution as the one used to create the model.\n",
    "\n",
    "An example is when we train a model to classify between dogs and cats. If the model is provided with dogs images dataset with only two breeds, it may obtain a good performance. But, it possibly gets a low classification score when it is tested by other breeds of dogs as well. This issue can result to classify an actual dog image as a cat from the unseen dataset. Therefore, data diversity is very important factor in order to make a good prediction. In the sample above, the model may obtain 85% performance score when it is tested by only two dog breeds and gains 70% if trained by all breeds. However, the first possibly gets a very low score (e.g. 45%) if it is evaluated by an unseen dataset with all breed dogs. This for the latter can be unchanged given than it has been trained by high data diversity including all possible breeds."
   ]
  },
  {
   "cell_type": "code",
   "execution_count": null,
   "id": "5caea145",
   "metadata": {},
   "outputs": [],
   "source": [
    "10. What is classification, exactly? What are the main distinctions between classification and regression ?\n",
    "Ans: In Machine Learning, Classification refers to a predictive modeling problem where a class label is predicted for a given example of input data.Classification is the task of predicting a discrete class label. Whereas Regression is the task of predicting a continuous quantity.\n",
    "\n",
    "Classification predictive modeling is the task of approximating a mapping function (f) from input variables (X) to discrete output variables (y).\n",
    "\n",
    "The output variables are often called labels or categories. The mapping function predicts the class or category for a given observation.\n",
    "\n",
    "For example, an email of text can be classified as belonging to one of two classes: “spam“ and “not spam“.\n",
    "\n",
    "A classification problem requires that examples be classified into one of two or more classes.\n",
    "A classification can have real-valued or discrete input variables.\n",
    "A problem with two classes is often called a two-class or binary classification problem.\n",
    "A problem with more than two classes is often called a multi-class classification problem.\n",
    "A problem where an example is assigned multiple classes is called a multi-label classification problem."
   ]
  },
  {
   "cell_type": "code",
   "execution_count": null,
   "id": "7b4a1d4d",
   "metadata": {},
   "outputs": [],
   "source": [
    "13. Make brief observations on two of the following topics ?\n",
    "Machine learning algorithms are used\n",
    "Studying under supervision\n",
    "Studying without supervision\n",
    "Reinforcement learning is a form of learning based on positive reinforcement.\n",
    "Ans: The brief observations on the following two topics is:\n",
    "\n",
    "Machine learning algorithms are used: At its Most basic, Machine Learning uses programmed algorithms that receive and analyse input data to predict output values within an acceptable range. As new data is fed to these algorithms, they learn and optimise their operations to improve performance, developing intelligence over time.\n",
    "\n",
    "Studying Under Supervision: In machine learning, there are two important categories- Supervised and Unsupervised learning.Supervised learning, an algorithm learns from a training dataset. We know the correct answers or desired output, the algorithm makes predictions using the given dataset and is corrected by the “supervisor”.\n",
    "\n"
   ]
  },
  {
   "cell_type": "code",
   "execution_count": null,
   "id": "fe4e18c1",
   "metadata": {},
   "outputs": [],
   "source": []
  },
  {
   "cell_type": "code",
   "execution_count": null,
   "id": "9422136e",
   "metadata": {},
   "outputs": [],
   "source": []
  },
  {
   "cell_type": "code",
   "execution_count": null,
   "id": "069f3e66",
   "metadata": {},
   "outputs": [],
   "source": []
  },
  {
   "cell_type": "code",
   "execution_count": null,
   "id": "9d7bb49f",
   "metadata": {},
   "outputs": [],
   "source": []
  },
  {
   "cell_type": "code",
   "execution_count": null,
   "id": "e8476a9c",
   "metadata": {},
   "outputs": [],
   "source": []
  },
  {
   "cell_type": "code",
   "execution_count": null,
   "id": "a07dfc9d",
   "metadata": {},
   "outputs": [],
   "source": []
  },
  {
   "cell_type": "code",
   "execution_count": null,
   "id": "a8562162",
   "metadata": {},
   "outputs": [],
   "source": []
  }
 ],
 "metadata": {
  "kernelspec": {
   "display_name": "Python 3 (ipykernel)",
   "language": "python",
   "name": "python3"
  },
  "language_info": {
   "codemirror_mode": {
    "name": "ipython",
    "version": 3
   },
   "file_extension": ".py",
   "mimetype": "text/x-python",
   "name": "python",
   "nbconvert_exporter": "python",
   "pygments_lexer": "ipython3",
   "version": "3.9.4"
  }
 },
 "nbformat": 4,
 "nbformat_minor": 5
}
